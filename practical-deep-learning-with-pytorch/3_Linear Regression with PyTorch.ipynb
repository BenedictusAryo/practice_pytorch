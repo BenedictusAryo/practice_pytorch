{
 "cells": [
  {
   "cell_type": "markdown",
   "metadata": {},
   "source": [
    "# Linear Regression with PyTorch\n",
    "## 1. Simple Linear Regression Basics\n",
    "- Allows us to understand **relationship** between two **continuous variables**\n",
    "- Example\n",
    "    - x: independent variable\n",
    "        - weight\n",
    "    - y: dependent variable\n",
    "        - height\n",
    "- $y = \\alpha x + \\beta$\n",
    "\n",
    "**Example :**"
   ]
  },
  {
   "cell_type": "code",
   "execution_count": 1,
   "metadata": {},
   "outputs": [
    {
     "data": {
      "image/png": "[encoded data removed]",
      "text/plain": [
       "<Figure size 432x288 with 1 Axes>"
      ]
     },
     "metadata": {
      "needs_background": "light"
     },
     "output_type": "display_data"
    }
   ],
   "source": [
    "import numpy as np\n",
    "import matplotlib.pyplot as plt\n",
    "%matplotlib inline\n",
    "\n",
    "np.random.seed(1)\n",
    "n = 50\n",
    "x = np.random.randn(n)\n",
    "y = x * np.random.randn(n)\n",
    "\n",
    "colors = np.random.rand(n)\n",
    "plt.plot(np.unique(x), np.poly1d(np.polyfit(x, y, 1))(np.unique(x)))\n",
    "\n",
    "plt.scatter(x, y, c=colors, alpha=0.5)\n",
    "plt.show()"
   ]
  },
  {
   "cell_type": "markdown",
   "metadata": {},
   "source": [
    "The Line is trying to fit the data point.\n",
    "\n",
    "### Aim of Linear Regression\n",
    "- Minimize the distance between the points and the line ($y = \\alpha x + \\beta$)\n",
    "- Adjusting\n",
    "    - Coefficient: $\\alpha$\n",
    "    - Bias/intercept: $\\beta$\n",
    "\n",
    "___\n",
    "## 2. Building a Linear Regression Model with PyTorch\n",
    "\n",
    "### Example\n",
    "- Coefficient: $\\alpha = 2$\n",
    "- Bias/intercept: $\\beta = 1$\n",
    "- Equation: $y = 2x + 1$\n",
    "\n",
    "#### Building a Toy Dataset\n",
    "Let's say we have function :\n",
    "\n",
    "$y = 2x + 1$\n",
    "\n",
    "Now, we wan't to know if our model will be able to find the function pattern"
   ]
  },
  {
   "cell_type": "code",
   "execution_count": 2,
   "metadata": {},
   "outputs": [
    {
     "name": "stdout",
     "output_type": "stream",
     "text": [
      "[0, 1, 2, 3, 4, 5, 6, 7, 8, 9, 10]\n"
     ]
    },
    {
     "data": {
      "text/plain": [
       "(11,)"
      ]
     },
     "execution_count": 2,
     "metadata": {},
     "output_type": "execute_result"
    }
   ],
   "source": [
    "x_values = [i for i in range(11)]\n",
    "print(x_values)\n",
    "\n",
    "x_train = np.array(x_values, dtype=np.float32)\n",
    "x_train.shape"
   ]
  },
  {
   "cell_type": "markdown",
   "metadata": {},
   "source": [
    "Now, we have to reshape the `x_train` into 2D (Column Array)"
   ]
  },
  {
   "cell_type": "code",
   "execution_count": 3,
   "metadata": {},
   "outputs": [
    {
     "data": {
      "text/plain": [
       "(11, 1)"
      ]
     },
     "execution_count": 3,
     "metadata": {},
     "output_type": "execute_result"
    }
   ],
   "source": [
    "x_train = x_train.reshape(-1, 1)\n",
    "x_train.shape"
   ]
  },
  {
   "cell_type": "code",
   "execution_count": 4,
   "metadata": {},
   "outputs": [
    {
     "data": {
      "text/plain": [
       "array([[ 0.],\n",
       "       [ 1.],\n",
       "       [ 2.],\n",
       "       [ 3.],\n",
       "       [ 4.],\n",
       "       [ 5.],\n",
       "       [ 6.],\n",
       "       [ 7.],\n",
       "       [ 8.],\n",
       "       [ 9.],\n",
       "       [10.]], dtype=float32)"
      ]
     },
     "execution_count": 4,
     "metadata": {},
     "output_type": "execute_result"
    }
   ],
   "source": [
    "x_train"
   ]
  },
  {
   "cell_type": "markdown",
   "metadata": {},
   "source": [
    "Now, we Create y value\n",
    "\n",
    "$y = 2x + 1$"
   ]
  },
  {
   "cell_type": "code",
   "execution_count": 5,
   "metadata": {},
   "outputs": [
    {
     "data": {
      "text/plain": [
       "[1, 3, 5, 7, 9, 11, 13, 15, 17, 19, 21]"
      ]
     },
     "execution_count": 5,
     "metadata": {},
     "output_type": "execute_result"
    }
   ],
   "source": [
    "y_value = [2*i+1 for i in x_values]\n",
    "y_value"
   ]
  },
  {
   "cell_type": "code",
   "execution_count": 6,
   "metadata": {},
   "outputs": [
    {
     "name": "stdout",
     "output_type": "stream",
     "text": [
      "[ 1.  3.  5.  7.  9. 11. 13. 15. 17. 19. 21.]\n"
     ]
    },
    {
     "data": {
      "text/plain": [
       "(11,)"
      ]
     },
     "execution_count": 6,
     "metadata": {},
     "output_type": "execute_result"
    }
   ],
   "source": [
    "y_train = np.array(y_value, dtype=np.float32)\n",
    "print(y_train)\n",
    "y_train.shape"
   ]
  },
  {
   "cell_type": "markdown",
   "metadata": {},
   "source": [
    "Now, we have to reshape the y_train into 2D (Column Array)"
   ]
  },
  {
   "cell_type": "code",
   "execution_count": 7,
   "metadata": {},
   "outputs": [
    {
     "data": {
      "text/plain": [
       "(11, 1)"
      ]
     },
     "execution_count": 7,
     "metadata": {},
     "output_type": "execute_result"
    }
   ],
   "source": [
    "y_train = y_train.reshape(-1, 1)\n",
    "y_train.shape"
   ]
  },
  {
   "cell_type": "code",
   "execution_count": 8,
   "metadata": {},
   "outputs": [
    {
     "data": {
      "text/plain": [
       "array([[ 1.],\n",
       "       [ 3.],\n",
       "       [ 5.],\n",
       "       [ 7.],\n",
       "       [ 9.],\n",
       "       [11.],\n",
       "       [13.],\n",
       "       [15.],\n",
       "       [17.],\n",
       "       [19.],\n",
       "       [21.]], dtype=float32)"
      ]
     },
     "execution_count": 8,
     "metadata": {},
     "output_type": "execute_result"
    }
   ],
   "source": [
    "y_train"
   ]
  },
  {
   "cell_type": "markdown",
   "metadata": {},
   "source": [
    "___\n",
    "### Building Model\n",
    "\n",
    "**Import torch library**"
   ]
  },
  {
   "cell_type": "code",
   "execution_count": 9,
   "metadata": {},
   "outputs": [],
   "source": [
    "import torch\n",
    "import torch.nn as nn"
   ]
  },
  {
   "cell_type": "markdown",
   "metadata": {},
   "source": [
    "**Create Model**\n",
    "1. Linear model\n",
    "    - True Equation: \n",
    "        $y = 2x + 1$\n",
    "2. Forward\n",
    "    - Example\n",
    "        - Input $x = 1 $\n",
    "        - Output $\\hat y = ?$"
   ]
  },
  {
   "cell_type": "code",
   "execution_count": 11,
   "metadata": {},
   "outputs": [],
   "source": [
    "# Create Linear Regression Class\n",
    "class LinearRegressionModel(nn.Module):\n",
    "    def __init__(self, input_dim, output_dim):\n",
    "        super(LinearRegressionModel, self).__init__()\n",
    "        self.linear = nn.Linear(input_dim, output_dim)\n",
    "    \n",
    "    def forward(self, x):\n",
    "        out = self.linear(x)\n",
    "        return out"
   ]
  },
  {
   "cell_type": "markdown",
   "metadata": {},
   "source": [
    "**Instantiate Model Class**\n",
    "- input: [0, 1, 2, 3, 4, 5, 6, 7, 8, 9, 10]\n",
    "- desired output: [1, 3, 5, 7, 9, 11, 13, 15, 17, 19, 21]"
   ]
  },
  {
   "cell_type": "code",
   "execution_count": 12,
   "metadata": {},
   "outputs": [],
   "source": [
    "input_dim = 1\n",
    "output_dim = 1\n",
    "\n",
    "model = LinearRegressionModel(input_dim, output_dim)"
   ]
  },
  {
   "cell_type": "markdown",
   "metadata": {},
   "source": [
    "**Instantiate Loss Class**\n",
    "- MSE Loss: Mean Squared Error\n",
    "- $MSE = \\frac{1}{n} \\sum_{i=1}^n(\\hat y_i - y_i)$\n",
    "    - $\\hat y$: prediction\n",
    "    - $y$: true value"
   ]
  },
  {
   "cell_type": "code",
   "execution_count": 14,
   "metadata": {},
   "outputs": [],
   "source": [
    "criterion = nn.MSELoss()"
   ]
  },
  {
   "cell_type": "markdown",
   "metadata": {},
   "source": [
    "**Instantiate Optimizer Class**\n",
    "- Simplified equation\n",
    "    - $\\theta = \\theta - \\eta \\cdot \\nabla_\\theta $\n",
    "        - $\\theta$: parameters (our variables)\n",
    "        - $\\eta$: learning rate (how fast we want to learn)\n",
    "        - $\\nabla_\\theta$: parameters' gradients\n",
    "- Even simplier equation\n",
    "    - `parameters = parameters - learning_rate * parameters_gradients`\n",
    "        - parameters: $\\alpha$ and $\\beta$ in $ y = \\alpha x + \\beta$\n",
    "        - desired parameters: $\\alpha = 2$ and $\\beta = 1$ in $ y = 2x + 1$"
   ]
  },
  {
   "cell_type": "code",
   "execution_count": 15,
   "metadata": {},
   "outputs": [],
   "source": [
    "learning_rate = 0.01\n",
    "\n",
    "optimizer = torch.optim.SGD(model.parameters(), lr=learning_rate)"
   ]
  },
  {
   "cell_type": "markdown",
   "metadata": {},
   "source": [
    "**Train Model**\n",
    "- 1 epoch: going through the whole x_train data once\n",
    "    - 100 epochs: \n",
    "        - 100x mapping `x_train = [0, 1, 2, 3, 4, 5, 6, 7, 8, 9, 10]`\n",
    "        \n",
    "- Process \n",
    "    1. Convert inputs/labels to tensors with gradients\n",
    "    2. Clear gradient buffets\n",
    "    3. Get output given inputs \n",
    "    4. Get loss\n",
    "    5. Get gradients w.r.t. parameters\n",
    "    6. Update parameters using gradients\n",
    "        - `parameters = parameters - learning_rate * parameters_gradients`\n",
    "    7. REPEAT"
   ]
  },
  {
   "cell_type": "code",
   "execution_count": 16,
   "metadata": {},
   "outputs": [],
   "source": [
    "epochs = 100"
   ]
  },
  {
   "cell_type": "code",
   "execution_count": 20,
   "metadata": {},
   "outputs": [
    {
     "name": "stdout",
     "output_type": "stream",
     "text": [
      "epoch =  1, loss = 0.02937346138060093\n",
      "epoch =  2, loss = 0.029045384377241135\n",
      "epoch =  3, loss = 0.02872108295559883\n",
      "epoch =  4, loss = 0.028400402516126633\n",
      "epoch =  5, loss = 0.028083179146051407\n",
      "epoch =  6, loss = 0.027769694104790688\n",
      "epoch =  7, loss = 0.02745959721505642\n",
      "epoch =  8, loss = 0.027152957394719124\n",
      "epoch =  9, loss = 0.026849765330553055\n",
      "epoch =  10, loss = 0.02654985338449478\n",
      "epoch =  11, loss = 0.02625340409576893\n",
      "epoch =  12, loss = 0.02596026472747326\n",
      "epoch =  13, loss = 0.025670377537608147\n",
      "epoch =  14, loss = 0.02538374438881874\n",
      "epoch =  15, loss = 0.025100313127040863\n",
      "epoch =  16, loss = 0.02482002042233944\n",
      "epoch =  17, loss = 0.024542853236198425\n",
      "epoch =  18, loss = 0.02426872029900551\n",
      "epoch =  19, loss = 0.02399768866598606\n",
      "epoch =  20, loss = 0.023729706183075905\n",
      "epoch =  21, loss = 0.023464776575565338\n",
      "epoch =  22, loss = 0.023202698677778244\n",
      "epoch =  23, loss = 0.022943684831261635\n",
      "epoch =  24, loss = 0.022687455639243126\n",
      "epoch =  25, loss = 0.022434117272496223\n",
      "epoch =  26, loss = 0.02218354307115078\n",
      "epoch =  27, loss = 0.021935882046818733\n",
      "epoch =  28, loss = 0.0216908510774374\n",
      "epoch =  29, loss = 0.021448643878102303\n",
      "epoch =  30, loss = 0.021209117025136948\n",
      "epoch =  31, loss = 0.02097228914499283\n",
      "epoch =  32, loss = 0.020738067105412483\n",
      "epoch =  33, loss = 0.02050655707716942\n",
      "epoch =  34, loss = 0.020277587696909904\n",
      "epoch =  35, loss = 0.020051181316375732\n",
      "epoch =  36, loss = 0.0198272205889225\n",
      "epoch =  37, loss = 0.019605739042162895\n",
      "epoch =  38, loss = 0.019386854022741318\n",
      "epoch =  39, loss = 0.019170386716723442\n",
      "epoch =  40, loss = 0.01895628310739994\n",
      "epoch =  41, loss = 0.01874460093677044\n",
      "epoch =  42, loss = 0.01853528432548046\n",
      "epoch =  43, loss = 0.018328355625271797\n",
      "epoch =  44, loss = 0.01812366396188736\n",
      "epoch =  45, loss = 0.017921259626746178\n",
      "epoch =  46, loss = 0.017721179872751236\n",
      "epoch =  47, loss = 0.017523305490612984\n",
      "epoch =  48, loss = 0.017327629029750824\n",
      "epoch =  49, loss = 0.017134059220552444\n",
      "epoch =  50, loss = 0.016942717134952545\n",
      "epoch =  51, loss = 0.01675357110798359\n",
      "epoch =  52, loss = 0.016566436737775803\n",
      "epoch =  53, loss = 0.016381504014134407\n",
      "epoch =  54, loss = 0.01619856059551239\n",
      "epoch =  55, loss = 0.016017626971006393\n",
      "epoch =  56, loss = 0.015838751569390297\n",
      "epoch =  57, loss = 0.015661977231502533\n",
      "epoch =  58, loss = 0.015487044118344784\n",
      "epoch =  59, loss = 0.015314051881432533\n",
      "epoch =  60, loss = 0.015143063850700855\n",
      "epoch =  61, loss = 0.01497399527579546\n",
      "epoch =  62, loss = 0.014806786552071571\n",
      "epoch =  63, loss = 0.014641400426626205\n",
      "epoch =  64, loss = 0.014477905817329884\n",
      "epoch =  65, loss = 0.014316252432763577\n",
      "epoch =  66, loss = 0.014156398363411427\n",
      "epoch =  67, loss = 0.013998270034790039\n",
      "epoch =  68, loss = 0.013841955922544003\n",
      "epoch =  69, loss = 0.013687378726899624\n",
      "epoch =  70, loss = 0.013534581288695335\n",
      "epoch =  71, loss = 0.013383444398641586\n",
      "epoch =  72, loss = 0.013233956880867481\n",
      "epoch =  73, loss = 0.01308620348572731\n",
      "epoch =  74, loss = 0.012940065003931522\n",
      "epoch =  75, loss = 0.012795528396964073\n",
      "epoch =  76, loss = 0.012652682140469551\n",
      "epoch =  77, loss = 0.012511338107287884\n",
      "epoch =  78, loss = 0.012371713295578957\n",
      "epoch =  79, loss = 0.012233493849635124\n",
      "epoch =  80, loss = 0.012096920050680637\n",
      "epoch =  81, loss = 0.011961830779910088\n",
      "epoch =  82, loss = 0.01182822696864605\n",
      "epoch =  83, loss = 0.011696201749145985\n",
      "epoch =  84, loss = 0.01156552229076624\n",
      "epoch =  85, loss = 0.011436396278440952\n",
      "epoch =  86, loss = 0.011308672837913036\n",
      "epoch =  87, loss = 0.011182393878698349\n",
      "epoch =  88, loss = 0.011057515628635883\n",
      "epoch =  89, loss = 0.010934025049209595\n",
      "epoch =  90, loss = 0.010811976157128811\n",
      "epoch =  91, loss = 0.010691264644265175\n",
      "epoch =  92, loss = 0.01057178433984518\n",
      "epoch =  93, loss = 0.010453794151544571\n",
      "epoch =  94, loss = 0.010337067767977715\n",
      "epoch =  95, loss = 0.010221617296338081\n",
      "epoch =  96, loss = 0.010107472538948059\n",
      "epoch =  97, loss = 0.009994586929678917\n",
      "epoch =  98, loss = 0.009882980026304722\n",
      "epoch =  99, loss = 0.009772629477083683\n",
      "epoch =  100, loss = 0.009663503617048264\n"
     ]
    }
   ],
   "source": [
    "for epoch in range(epochs):\n",
    "    epoch += 1\n",
    "    # Convert numpy array to torch with inputs requires grad\n",
    "    inputs = torch.from_numpy(x_train).requires_grad_()\n",
    "    labels = torch.from_numpy(y_train)\n",
    "    \n",
    "    # Clear Gradient w.r.t. parameters\n",
    "    optimizer.zero_grad()\n",
    "    \n",
    "    # Forward prop to get output\n",
    "    # Think about like doing y = F(x)\n",
    "    outputs = model(inputs)\n",
    "    \n",
    "    # Calculate Loss\n",
    "    loss = criterion(outputs, labels)\n",
    "    \n",
    "    # Getting gradients w.r.t. parameters\n",
    "    loss.backward()\n",
    "    \n",
    "    # Updating parameters\n",
    "    optimizer.step()\n",
    "    \n",
    "    print(f'epoch =  {epoch}, loss = {loss.item()}')"
   ]
  },
  {
   "cell_type": "markdown",
   "metadata": {},
   "source": [
    "**Compare Data**\n",
    "\n",
    "Desired output: [1, 3, 5, 7, 9, 11, 13, 15, 17, 19, 21]"
   ]
  },
  {
   "cell_type": "code",
   "execution_count": 23,
   "metadata": {},
   "outputs": [
    {
     "data": {
      "text/plain": [
       "array([[ 0.8171363],\n",
       "       [ 2.8434703],\n",
       "       [ 4.8698044],\n",
       "       [ 6.8961387],\n",
       "       [ 8.922472 ],\n",
       "       [10.948807 ],\n",
       "       [12.975142 ],\n",
       "       [15.001474 ],\n",
       "       [17.02781  ],\n",
       "       [19.054144 ],\n",
       "       [21.080477 ]], dtype=float32)"
      ]
     },
     "execution_count": 23,
     "metadata": {},
     "output_type": "execute_result"
    }
   ],
   "source": [
    "# Purely inference\n",
    "predicted = model(torch.from_numpy(x_train).requires_grad_()).data.numpy()\n",
    "predicted"
   ]
  },
  {
   "cell_type": "code",
   "execution_count": 24,
   "metadata": {},
   "outputs": [
    {
     "data": {
      "text/plain": [
       "array([[ 1.],\n",
       "       [ 3.],\n",
       "       [ 5.],\n",
       "       [ 7.],\n",
       "       [ 9.],\n",
       "       [11.],\n",
       "       [13.],\n",
       "       [15.],\n",
       "       [17.],\n",
       "       [19.],\n",
       "       [21.]], dtype=float32)"
      ]
     },
     "execution_count": 24,
     "metadata": {},
     "output_type": "execute_result"
    }
   ],
   "source": [
    "# y = 2x + 1\n",
    "y_train"
   ]
  },
  {
   "cell_type": "markdown",
   "metadata": {},
   "source": [
    "**Plot Graph**"
   ]
  },
  {
   "cell_type": "code",
   "execution_count": 25,
   "metadata": {},
   "outputs": [
    {
     "data": {
      "image/png": "[encoded data removed]",
      "text/plain": [
       "<Figure size 432x288 with 1 Axes>"
      ]
     },
     "metadata": {
      "needs_background": "light"
     },
     "output_type": "display_data"
    }
   ],
   "source": [
    "# Clear figure\n",
    "plt.clf()\n",
    "\n",
    "# Plot true data\n",
    "plt.plot(x_train, y_train, 'go', label='True data', alpha=0.5)\n",
    "\n",
    "# Plot predictions\n",
    "plt.plot(x_train, predicted, '--', label='Predictions', alpha=0.5)\n",
    "\n",
    "# Legend and plot\n",
    "plt.legend(loc='best')\n",
    "plt.show()"
   ]
  },
  {
   "cell_type": "code",
   "execution_count": null,
   "metadata": {},
   "outputs": [],
   "source": []
  }
 ],
 "metadata": {
  "kernelspec": {
   "display_name": "Python 3",
   "language": "python",
   "name": "python3"
  },
  "language_info": {
   "codemirror_mode": {
    "name": "ipython",
    "version": 3
   },
   "file_extension": ".py",
   "mimetype": "text/x-python",
   "name": "python",
   "nbconvert_exporter": "python",
   "pygments_lexer": "ipython3",
   "version": "3.7.1"
  }
 },
 "nbformat": 4,
 "nbformat_minor": 2
}
