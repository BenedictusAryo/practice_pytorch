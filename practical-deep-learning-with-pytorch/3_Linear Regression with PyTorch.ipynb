{
 "cells": [
  {
   "cell_type": "markdown",
   "metadata": {},
   "source": [
    "# Linear Regression with PyTorch\n",
    "## 1. Simple Linear Regression Basics\n",
    "- Allows us to understand **relationship** between two **continuous variables**\n",
    "- Example\n",
    "    - x: independent variable\n",
    "        - weight\n",
    "    - y: dependent variable\n",
    "        - height\n",
    "- $y = \\alpha x + \\beta$\n",
    "\n",
    "**Example :**"
   ]
  },
  {
   "cell_type": "code",
   "execution_count": 1,
   "metadata": {},
   "outputs": [
    {
     "data": {
      "image/png": "[encoded data removed]",
      "text/plain": [
       "<Figure size 432x288 with 1 Axes>"
      ]
     },
     "metadata": {
      "needs_background": "light"
     },
     "output_type": "display_data"
    }
   ],
   "source": [
    "import numpy as np\n",
    "import matplotlib.pyplot as plt\n",
    "%matplotlib inline\n",
    "\n",
    "np.random.seed(1)\n",
    "n = 50\n",
    "x = np.random.randn(n)\n",
    "y = x * np.random.randn(n)\n",
    "\n",
    "colors = np.random.rand(n)\n",
    "plt.plot(np.unique(x), np.poly1d(np.polyfit(x, y, 1))(np.unique(x)))\n",
    "\n",
    "plt.scatter(x, y, c=colors, alpha=0.5)\n",
    "plt.show()"
   ]
  },
  {
   "cell_type": "markdown",
   "metadata": {},
   "source": [
    "The Line is trying to fit the data point.\n",
    "\n",
    "### Aim of Linear Regression\n",
    "- Minimize the distance between the points and the line ($y = \\alpha x + \\beta$)\n",
    "- Adjusting\n",
    "    - Coefficient: $\\alpha$\n",
    "    - Bias/intercept: $\\beta$\n",
    "\n",
    "___\n",
    "## 2. Building a Linear Regression Model with PyTorch\n",
    "\n",
    "### Example\n",
    "- Coefficient: $\\alpha = 2$\n",
    "- Bias/intercept: $\\beta = 1$\n",
    "- Equation: $y = 2x + 1$\n",
    "\n",
    "#### Building a Toy Dataset\n",
    "Let's say we have function :\n",
    "\n",
    "$y = 2x + 1$\n",
    "\n",
    "Now, we wan't to know if our model will be able to find the function pattern"
   ]
  },
  {
   "cell_type": "code",
   "execution_count": 2,
   "metadata": {},
   "outputs": [
    {
     "name": "stdout",
     "output_type": "stream",
     "text": [
      "[0, 1, 2, 3, 4, 5, 6, 7, 8, 9, 10]\n"
     ]
    },
    {
     "data": {
      "text/plain": [
       "(11,)"
      ]
     },
     "execution_count": 2,
     "metadata": {},
     "output_type": "execute_result"
    }
   ],
   "source": [
    "x_values = [i for i in range(11)]\n",
    "print(x_values)\n",
    "\n",
    "x_train = np.array(x_values, dtype=np.float32)\n",
    "x_train.shape"
   ]
  },
  {
   "cell_type": "markdown",
   "metadata": {},
   "source": [
    "Now, we have to reshape the `x_train` into 2D (Column Array)"
   ]
  },
  {
   "cell_type": "code",
   "execution_count": 3,
   "metadata": {},
   "outputs": [
    {
     "data": {
      "text/plain": [
       "(11, 1)"
      ]
     },
     "execution_count": 3,
     "metadata": {},
     "output_type": "execute_result"
    }
   ],
   "source": [
    "x_train = x_train.reshape(-1, 1)\n",
    "x_train.shape"
   ]
  },
  {
   "cell_type": "code",
   "execution_count": 4,
   "metadata": {},
   "outputs": [
    {
     "data": {
      "text/plain": [
       "array([[ 0.],\n",
       "       [ 1.],\n",
       "       [ 2.],\n",
       "       [ 3.],\n",
       "       [ 4.],\n",
       "       [ 5.],\n",
       "       [ 6.],\n",
       "       [ 7.],\n",
       "       [ 8.],\n",
       "       [ 9.],\n",
       "       [10.]], dtype=float32)"
      ]
     },
     "execution_count": 4,
     "metadata": {},
     "output_type": "execute_result"
    }
   ],
   "source": [
    "x_train"
   ]
  },
  {
   "cell_type": "markdown",
   "metadata": {},
   "source": [
    "Now, we Create y value\n",
    "\n",
    "$y = 2x + 1$"
   ]
  },
  {
   "cell_type": "code",
   "execution_count": 5,
   "metadata": {},
   "outputs": [
    {
     "data": {
      "text/plain": [
       "[1, 3, 5, 7, 9, 11, 13, 15, 17, 19, 21]"
      ]
     },
     "execution_count": 5,
     "metadata": {},
     "output_type": "execute_result"
    }
   ],
   "source": [
    "y_value = [2*i+1 for i in x_values]\n",
    "y_value"
   ]
  },
  {
   "cell_type": "code",
   "execution_count": 6,
   "metadata": {},
   "outputs": [
    {
     "name": "stdout",
     "output_type": "stream",
     "text": [
      "[ 1.  3.  5.  7.  9. 11. 13. 15. 17. 19. 21.]\n"
     ]
    },
    {
     "data": {
      "text/plain": [
       "(11,)"
      ]
     },
     "execution_count": 6,
     "metadata": {},
     "output_type": "execute_result"
    }
   ],
   "source": [
    "y_train = np.array(y_value, dtype=np.float32)\n",
    "print(y_train)\n",
    "y_train.shape"
   ]
  },
  {
   "cell_type": "markdown",
   "metadata": {},
   "source": [
    "Now, we have to reshape the y_train into 2D (Column Array)"
   ]
  },
  {
   "cell_type": "code",
   "execution_count": 7,
   "metadata": {},
   "outputs": [
    {
     "data": {
      "text/plain": [
       "(11, 1)"
      ]
     },
     "execution_count": 7,
     "metadata": {},
     "output_type": "execute_result"
    }
   ],
   "source": [
    "y_train = y_train.reshape(-1, 1)\n",
    "y_train.shape"
   ]
  },
  {
   "cell_type": "code",
   "execution_count": 8,
   "metadata": {},
   "outputs": [
    {
     "data": {
      "text/plain": [
       "array([[ 1.],\n",
       "       [ 3.],\n",
       "       [ 5.],\n",
       "       [ 7.],\n",
       "       [ 9.],\n",
       "       [11.],\n",
       "       [13.],\n",
       "       [15.],\n",
       "       [17.],\n",
       "       [19.],\n",
       "       [21.]], dtype=float32)"
      ]
     },
     "execution_count": 8,
     "metadata": {},
     "output_type": "execute_result"
    }
   ],
   "source": [
    "y_train"
   ]
  },
  {
   "cell_type": "markdown",
   "metadata": {},
   "source": [
    "___\n",
    "### Building Model\n",
    "\n",
    "**Import torch library**"
   ]
  },
  {
   "cell_type": "code",
   "execution_count": 9,
   "metadata": {},
   "outputs": [],
   "source": [
    "import torch\n",
    "import torch.nn as nn"
   ]
  },
  {
   "cell_type": "markdown",
   "metadata": {},
   "source": [
    "**Create Model**\n",
    "1. Linear model\n",
    "    - True Equation: \n",
    "        $y = 2x + 1$\n",
    "2. Forward\n",
    "    - Example\n",
    "        - Input $x = 1 $\n",
    "        - Output $\\hat y = ?$"
   ]
  },
  {
   "cell_type": "code",
   "execution_count": 10,
   "metadata": {},
   "outputs": [],
   "source": [
    "# Create Linear Regression Class\n",
    "class LinearRegressionModel(nn.Module):\n",
    "    def __init__(self, input_dim, output_dim):\n",
    "        super(LinearRegressionModel, self).__init__()\n",
    "        self.linear = nn.Linear(input_dim, output_dim)\n",
    "    \n",
    "    def forward(self, x):\n",
    "        out = self.linear(x)\n",
    "        return out"
   ]
  },
  {
   "cell_type": "markdown",
   "metadata": {},
   "source": [
    "**Instantiate Model Class**\n",
    "- input: [0, 1, 2, 3, 4, 5, 6, 7, 8, 9, 10]\n",
    "- desired output: [1, 3, 5, 7, 9, 11, 13, 15, 17, 19, 21]"
   ]
  },
  {
   "cell_type": "code",
   "execution_count": 11,
   "metadata": {},
   "outputs": [],
   "source": [
    "input_dim = 1\n",
    "output_dim = 1\n",
    "\n",
    "model = LinearRegressionModel(input_dim, output_dim)"
   ]
  },
  {
   "cell_type": "markdown",
   "metadata": {},
   "source": [
    "**Instantiate Loss Class**\n",
    "- MSE Loss: Mean Squared Error\n",
    "- $MSE = \\frac{1}{n} \\sum_{i=1}^n(\\hat y_i - y_i)$\n",
    "    - $\\hat y$: prediction\n",
    "    - $y$: true value"
   ]
  },
  {
   "cell_type": "code",
   "execution_count": 12,
   "metadata": {},
   "outputs": [],
   "source": [
    "criterion = nn.MSELoss()"
   ]
  },
  {
   "cell_type": "markdown",
   "metadata": {},
   "source": [
    "**Instantiate Optimizer Class**\n",
    "- Simplified equation\n",
    "    - $\\theta = \\theta - \\eta \\cdot \\nabla_\\theta $\n",
    "        - $\\theta$: parameters (our variables)\n",
    "        - $\\eta$: learning rate (how fast we want to learn)\n",
    "        - $\\nabla_\\theta$: parameters' gradients\n",
    "- Even simplier equation\n",
    "    - `parameters = parameters - learning_rate * parameters_gradients`\n",
    "        - parameters: $\\alpha$ and $\\beta$ in $ y = \\alpha x + \\beta$\n",
    "        - desired parameters: $\\alpha = 2$ and $\\beta = 1$ in $ y = 2x + 1$"
   ]
  },
  {
   "cell_type": "code",
   "execution_count": 13,
   "metadata": {},
   "outputs": [],
   "source": [
    "learning_rate = 0.01\n",
    "\n",
    "optimizer = torch.optim.SGD(model.parameters(), lr=learning_rate)"
   ]
  },
  {
   "cell_type": "markdown",
   "metadata": {},
   "source": [
    "**Train Model**\n",
    "- 1 epoch: going through the whole x_train data once\n",
    "    - 100 epochs: \n",
    "        - 100x mapping `x_train = [0, 1, 2, 3, 4, 5, 6, 7, 8, 9, 10]`\n",
    "        \n",
    "- Process \n",
    "    1. Convert inputs/labels to tensors with gradients\n",
    "    2. Clear gradient buffets\n",
    "    3. Get output given inputs \n",
    "    4. Get loss\n",
    "    5. Get gradients w.r.t. parameters\n",
    "    6. Update parameters using gradients\n",
    "        - `parameters = parameters - learning_rate * parameters_gradients`\n",
    "    7. REPEAT"
   ]
  },
  {
   "cell_type": "code",
   "execution_count": 14,
   "metadata": {},
   "outputs": [],
   "source": [
    "epochs = 100"
   ]
  },
  {
   "cell_type": "code",
   "execution_count": 15,
   "metadata": {},
   "outputs": [
    {
     "name": "stdout",
     "output_type": "stream",
     "text": [
      "epoch =  1, loss = 294.02264404296875\n",
      "epoch =  2, loss = 24.5371150970459\n",
      "epoch =  3, loss = 2.549837589263916\n",
      "epoch =  4, loss = 0.7502802014350891\n",
      "epoch =  5, loss = 0.5974398255348206\n",
      "epoch =  6, loss = 0.5789852142333984\n",
      "epoch =  7, loss = 0.5715587139129639\n",
      "epoch =  8, loss = 0.5650975108146667\n",
      "epoch =  9, loss = 0.558781087398529\n",
      "epoch =  10, loss = 0.5525403022766113\n",
      "epoch =  11, loss = 0.5463701486587524\n",
      "epoch =  12, loss = 0.5402689576148987\n",
      "epoch =  13, loss = 0.5342356562614441\n",
      "epoch =  14, loss = 0.5282701253890991\n",
      "epoch =  15, loss = 0.5223714709281921\n",
      "epoch =  16, loss = 0.5165380835533142\n",
      "epoch =  17, loss = 0.510769784450531\n",
      "epoch =  18, loss = 0.5050660967826843\n",
      "epoch =  19, loss = 0.49942639470100403\n",
      "epoch =  20, loss = 0.4938490390777588\n",
      "epoch =  21, loss = 0.48833420872688293\n",
      "epoch =  22, loss = 0.4828813076019287\n",
      "epoch =  23, loss = 0.47748908400535583\n",
      "epoch =  24, loss = 0.47215723991394043\n",
      "epoch =  25, loss = 0.46688443422317505\n",
      "epoch =  26, loss = 0.46167081594467163\n",
      "epoch =  27, loss = 0.4565151333808899\n",
      "epoch =  28, loss = 0.45141780376434326\n",
      "epoch =  29, loss = 0.4463765323162079\n",
      "epoch =  30, loss = 0.4413920044898987\n",
      "epoch =  31, loss = 0.43646350502967834\n",
      "epoch =  32, loss = 0.4315894842147827\n",
      "epoch =  33, loss = 0.42676982283592224\n",
      "epoch =  34, loss = 0.42200425267219543\n",
      "epoch =  35, loss = 0.417291522026062\n",
      "epoch =  36, loss = 0.4126316010951996\n",
      "epoch =  37, loss = 0.40802398324012756\n",
      "epoch =  38, loss = 0.4034678041934967\n",
      "epoch =  39, loss = 0.39896222949028015\n",
      "epoch =  40, loss = 0.39450687170028687\n",
      "epoch =  41, loss = 0.39010143280029297\n",
      "epoch =  42, loss = 0.38574522733688354\n",
      "epoch =  43, loss = 0.3814379572868347\n",
      "epoch =  44, loss = 0.3771781921386719\n",
      "epoch =  45, loss = 0.3729666769504547\n",
      "epoch =  46, loss = 0.36880192160606384\n",
      "epoch =  47, loss = 0.36468347907066345\n",
      "epoch =  48, loss = 0.3606110215187073\n",
      "epoch =  49, loss = 0.35658419132232666\n",
      "epoch =  50, loss = 0.35260239243507385\n",
      "epoch =  51, loss = 0.3486648201942444\n",
      "epoch =  52, loss = 0.344771146774292\n",
      "epoch =  53, loss = 0.34092143177986145\n",
      "epoch =  54, loss = 0.3371140956878662\n",
      "epoch =  55, loss = 0.3333494961261749\n",
      "epoch =  56, loss = 0.3296271562576294\n",
      "epoch =  57, loss = 0.3259464204311371\n",
      "epoch =  58, loss = 0.3223065137863159\n",
      "epoch =  59, loss = 0.3187072277069092\n",
      "epoch =  60, loss = 0.31514856219291687\n",
      "epoch =  61, loss = 0.311629056930542\n",
      "epoch =  62, loss = 0.30814921855926514\n",
      "epoch =  63, loss = 0.3047080934047699\n",
      "epoch =  64, loss = 0.3013058304786682\n",
      "epoch =  65, loss = 0.2979409694671631\n",
      "epoch =  66, loss = 0.2946138381958008\n",
      "epoch =  67, loss = 0.29132407903671265\n",
      "epoch =  68, loss = 0.2880709767341614\n",
      "epoch =  69, loss = 0.28485390543937683\n",
      "epoch =  70, loss = 0.2816729247570038\n",
      "epoch =  71, loss = 0.27852773666381836\n",
      "epoch =  72, loss = 0.2754173278808594\n",
      "epoch =  73, loss = 0.27234184741973877\n",
      "epoch =  74, loss = 0.2693009376525879\n",
      "epoch =  75, loss = 0.2662932872772217\n",
      "epoch =  76, loss = 0.2633197605609894\n",
      "epoch =  77, loss = 0.2603793442249298\n",
      "epoch =  78, loss = 0.25747179985046387\n",
      "epoch =  79, loss = 0.2545967400074005\n",
      "epoch =  80, loss = 0.25175344944000244\n",
      "epoch =  81, loss = 0.2489422857761383\n",
      "epoch =  82, loss = 0.2461625039577484\n",
      "epoch =  83, loss = 0.24341340363025665\n",
      "epoch =  84, loss = 0.24069559574127197\n",
      "epoch =  85, loss = 0.23800775408744812\n",
      "epoch =  86, loss = 0.23534977436065674\n",
      "epoch =  87, loss = 0.23272168636322021\n",
      "epoch =  88, loss = 0.23012284934520721\n",
      "epoch =  89, loss = 0.22755298018455505\n",
      "epoch =  90, loss = 0.22501219809055328\n",
      "epoch =  91, loss = 0.22249950468540192\n",
      "epoch =  92, loss = 0.22001489996910095\n",
      "epoch =  93, loss = 0.21755804121494293\n",
      "epoch =  94, loss = 0.21512848138809204\n",
      "epoch =  95, loss = 0.21272602677345276\n",
      "epoch =  96, loss = 0.21035070717334747\n",
      "epoch =  97, loss = 0.20800192654132843\n",
      "epoch =  98, loss = 0.2056789994239807\n",
      "epoch =  99, loss = 0.2033824324607849\n",
      "epoch =  100, loss = 0.20111113786697388\n"
     ]
    }
   ],
   "source": [
    "for epoch in range(epochs):\n",
    "    epoch += 1\n",
    "    # Convert numpy array to torch with inputs requires grad\n",
    "    inputs = torch.from_numpy(x_train).requires_grad_()\n",
    "    labels = torch.from_numpy(y_train)\n",
    "    \n",
    "    # Clear Gradient w.r.t. parameters\n",
    "    optimizer.zero_grad()\n",
    "    \n",
    "    # Forward prop to get output\n",
    "    # Think about like doing y = F(x)\n",
    "    outputs = model(inputs)\n",
    "    \n",
    "    # Calculate Loss\n",
    "    loss = criterion(outputs, labels)\n",
    "    \n",
    "    # Getting gradients w.r.t. parameters\n",
    "    loss.backward()\n",
    "    \n",
    "    # Updating parameters\n",
    "    optimizer.step()\n",
    "    \n",
    "    print(f'epoch =  {epoch}, loss = {loss.item()}')"
   ]
  },
  {
   "cell_type": "markdown",
   "metadata": {},
   "source": [
    "**Compare Data**\n",
    "\n",
    "Desired output: [1, 3, 5, 7, 9, 11, 13, 15, 17, 19, 21]"
   ]
  },
  {
   "cell_type": "code",
   "execution_count": 16,
   "metadata": {},
   "outputs": [
    {
     "data": {
      "text/plain": [
       "array([[ 0.16578446],\n",
       "       [ 2.285919  ],\n",
       "       [ 4.4060535 ],\n",
       "       [ 6.5261884 ],\n",
       "       [ 8.646323  ],\n",
       "       [10.766458  ],\n",
       "       [12.886593  ],\n",
       "       [15.006727  ],\n",
       "       [17.126862  ],\n",
       "       [19.246996  ],\n",
       "       [21.36713   ]], dtype=float32)"
      ]
     },
     "execution_count": 16,
     "metadata": {},
     "output_type": "execute_result"
    }
   ],
   "source": [
    "# Purely inference\n",
    "predicted = model(torch.from_numpy(x_train).requires_grad_()).data.numpy()\n",
    "predicted"
   ]
  },
  {
   "cell_type": "code",
   "execution_count": 17,
   "metadata": {},
   "outputs": [
    {
     "data": {
      "text/plain": [
       "array([[ 1.],\n",
       "       [ 3.],\n",
       "       [ 5.],\n",
       "       [ 7.],\n",
       "       [ 9.],\n",
       "       [11.],\n",
       "       [13.],\n",
       "       [15.],\n",
       "       [17.],\n",
       "       [19.],\n",
       "       [21.]], dtype=float32)"
      ]
     },
     "execution_count": 17,
     "metadata": {},
     "output_type": "execute_result"
    }
   ],
   "source": [
    "# y = 2x + 1\n",
    "y_train"
   ]
  },
  {
   "cell_type": "markdown",
   "metadata": {},
   "source": [
    "**Plot Graph**"
   ]
  },
  {
   "cell_type": "code",
   "execution_count": 18,
   "metadata": {},
   "outputs": [
    {
     "data": {
      "image/png": "[encoded data removed]",
      "text/plain": [
       "<Figure size 432x288 with 1 Axes>"
      ]
     },
     "metadata": {
      "needs_background": "light"
     },
     "output_type": "display_data"
    }
   ],
   "source": [
    "# Clear figure\n",
    "plt.clf()\n",
    "\n",
    "# Plot true data\n",
    "plt.plot(x_train, y_train, 'go', label='True data', alpha=0.5)\n",
    "\n",
    "# Plot predictions\n",
    "plt.plot(x_train, predicted, '--', label='Predictions', alpha=0.5)\n",
    "\n",
    "# Legend and plot\n",
    "plt.legend(loc='best')\n",
    "plt.show()"
   ]
  },
  {
   "cell_type": "markdown",
   "metadata": {},
   "source": [
    "**Save Model**"
   ]
  },
  {
   "cell_type": "code",
   "execution_count": 19,
   "metadata": {},
   "outputs": [],
   "source": [
    "save_model = False\n",
    "if save_model is True:\n",
    "    # Saves only parameters\n",
    "    # alpha & beta\n",
    "    torch.save(model.state_dict(), 'awesome_model.pkl')"
   ]
  },
  {
   "cell_type": "code",
   "execution_count": 23,
   "metadata": {},
   "outputs": [
    {
     "name": "stdout",
     "output_type": "stream",
     "text": [
      "awesome_model.pkl\n"
     ]
    }
   ],
   "source": [
    "!ls | grep awesome_model.pkl"
   ]
  },
  {
   "cell_type": "markdown",
   "metadata": {},
   "source": [
    "**Load Model**"
   ]
  },
  {
   "cell_type": "code",
   "execution_count": 21,
   "metadata": {},
   "outputs": [],
   "source": [
    "load_model = False\n",
    "if load_model is True:\n",
    "    model.load_state_dict(torch.load('awesome_model.pkl'))"
   ]
  },
  {
   "cell_type": "markdown",
   "metadata": {},
   "source": [
    "**Show Model Weight**\n",
    "\n",
    "Desired Params : \n",
    "* `weight = 2`\n",
    "* `bias = 1`\n",
    "\n",
    "$$y = 2x + 1$$"
   ]
  },
  {
   "cell_type": "code",
   "execution_count": 24,
   "metadata": {},
   "outputs": [
    {
     "data": {
      "text/plain": [
       "OrderedDict([('linear.weight', tensor([[2.1201]])),\n",
       "             ('linear.bias', tensor([0.1658]))])"
      ]
     },
     "execution_count": 24,
     "metadata": {},
     "output_type": "execute_result"
    }
   ],
   "source": [
    "model.state_dict()"
   ]
  },
  {
   "cell_type": "markdown",
   "metadata": {},
   "source": [
    "___\n",
    "### CPU Summary "
   ]
  },
  {
   "cell_type": "code",
   "execution_count": 26,
   "metadata": {},
   "outputs": [],
   "source": [
    "import torch\n",
    "import torch.nn as nn\n",
    "\n",
    "\"\"\"\n",
    "Step 1: Create Model Class\n",
    "\"\"\"\n",
    "class LinearRegressionModel_CPU(nn.Module):\n",
    "    def __init__(self, input_dim, output_dim):\n",
    "        super(LinearRegressionModel_CPU, self).__init__()\n",
    "        self.linear = nn.Linear(input_dim, output_dim)\n",
    "    \n",
    "    def forward(self, x):\n",
    "        out = self.linear(x)\n",
    "        return out\n",
    "\n",
    "    \n",
    "\"\"\"\n",
    "Step 2: Instantiate Model Class\n",
    "\"\"\"\n",
    "input_dim = 1\n",
    "output_dim = 1\n",
    "\n",
    "model = LinearRegressionModel_CPU(input_dim, output_dim)\n",
    "\n",
    "\n",
    "\"\"\"\n",
    "Step 3: Instantiate Loss Class\n",
    "\"\"\"\n",
    "criterion = nn.MSELoss()\n",
    "\n",
    "\n",
    "\"\"\"\n",
    "Step 4: Instantiate Optimizer Class\n",
    "\"\"\"\n",
    "learning_rate = 0.01\n",
    "\n",
    "optimizer = torch.optim.SGD(model.parameters(), lr=learning_rate)\n",
    "\n",
    "\n",
    "\"\"\"\n",
    "Step 5: Train the Model\n",
    "\"\"\"\n",
    "epochs = 100\n",
    "for epoch in range(epochs):\n",
    "    epoch += 1\n",
    "    # Convert numpy array to torch Variable\n",
    "    inputs = torch.from_numpy(x_train).requires_grad_()\n",
    "    labels = torch.from_numpy(y_train)\n",
    "    \n",
    "    # Clear gradients w.r.t. parameters\n",
    "    optimizer.zero_grad()\n",
    "    \n",
    "    # Forward to get output\n",
    "    outputs = model(inputs)\n",
    "    \n",
    "    # Calculate Loss\n",
    "    loss = criterion(outputs, labels)\n",
    "    \n",
    "    # Getting gradients w.r.t. parameters\n",
    "    loss.backward()\n",
    "    \n",
    "    # Updating parameters\n",
    "    optimizer.step()"
   ]
  },
  {
   "cell_type": "code",
   "execution_count": 36,
   "metadata": {},
   "outputs": [
    {
     "data": {
      "text/plain": [
       "array([[ 1],\n",
       "       [ 3],\n",
       "       [ 5],\n",
       "       [ 7],\n",
       "       [ 9],\n",
       "       [11],\n",
       "       [13],\n",
       "       [14],\n",
       "       [16],\n",
       "       [18],\n",
       "       [20]])"
      ]
     },
     "execution_count": 36,
     "metadata": {},
     "output_type": "execute_result"
    }
   ],
   "source": [
    "predict = model(torch.from_numpy(x_train).requires_grad_()).data.numpy().astype('int')\n",
    "predict"
   ]
  },
  {
   "cell_type": "code",
   "execution_count": 34,
   "metadata": {},
   "outputs": [
    {
     "data": {
      "text/plain": [
       "array([[ 1.],\n",
       "       [ 3.],\n",
       "       [ 5.],\n",
       "       [ 7.],\n",
       "       [ 9.],\n",
       "       [11.],\n",
       "       [13.],\n",
       "       [15.],\n",
       "       [17.],\n",
       "       [19.],\n",
       "       [21.]], dtype=float32)"
      ]
     },
     "execution_count": 34,
     "metadata": {},
     "output_type": "execute_result"
    }
   ],
   "source": [
    "y_train"
   ]
  },
  {
   "cell_type": "code",
   "execution_count": 37,
   "metadata": {},
   "outputs": [
    {
     "data": {
      "text/plain": [
       "[<matplotlib.lines.Line2D at 0x1e99a12da20>]"
      ]
     },
     "execution_count": 37,
     "metadata": {},
     "output_type": "execute_result"
    },
    {
     "data": {
      "image/png": "[encoded data removed]",
      "text/plain": [
       "<Figure size 432x288 with 1 Axes>"
      ]
     },
     "metadata": {
      "needs_background": "light"
     },
     "output_type": "display_data"
    }
   ],
   "source": [
    "plt.plot(x_train, predict)"
   ]
  },
  {
   "cell_type": "code",
   "execution_count": null,
   "metadata": {},
   "outputs": [],
   "source": []
  }
 ],
 "metadata": {
  "kernelspec": {
   "display_name": "Python 3",
   "language": "python",
   "name": "python3"
  },
  "language_info": {
   "codemirror_mode": {
    "name": "ipython",
    "version": 3
   },
   "file_extension": ".py",
   "mimetype": "text/x-python",
   "name": "python",
   "nbconvert_exporter": "python",
   "pygments_lexer": "ipython3",
   "version": "3.7.1"
  }
 },
 "nbformat": 4,
 "nbformat_minor": 2
}
